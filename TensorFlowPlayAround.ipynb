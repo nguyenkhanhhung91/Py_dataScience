{
  "nbformat": 4,
  "nbformat_minor": 0,
  "metadata": {
    "colab": {
      "provenance": [],
      "authorship_tag": "ABX9TyMCoQEkTS8WSfdp4ScQHYow",
      "include_colab_link": true
    },
    "kernelspec": {
      "name": "python3",
      "display_name": "Python 3"
    },
    "language_info": {
      "name": "python"
    }
  },
  "cells": [
    {
      "cell_type": "markdown",
      "metadata": {
        "id": "view-in-github",
        "colab_type": "text"
      },
      "source": [
        "<a href=\"https://colab.research.google.com/github/nguyenkhanhhung91/Py_dataScience/blob/main/TensorFlowPlayAround.ipynb\" target=\"_parent\"><img src=\"https://colab.research.google.com/assets/colab-badge.svg\" alt=\"Open In Colab\"/></a>"
      ]
    },
    {
      "cell_type": "code",
      "execution_count": 4,
      "metadata": {
        "id": "xlSIZ-3rwYZk",
        "colab": {
          "base_uri": "https://localhost:8080/"
        },
        "outputId": "9a63c935-996a-4428-8dd5-8c0d3008511d"
      },
      "outputs": [
        {
          "output_type": "stream",
          "name": "stdout",
          "text": [
            "   longitude  latitude  housing_median_age  total_rooms  total_bedrooms  \\\n",
            "0    -114.31     34.19                15.0       5612.0          1283.0   \n",
            "1    -114.47     34.40                19.0       7650.0          1901.0   \n",
            "2    -114.56     33.69                17.0        720.0           174.0   \n",
            "3    -114.57     33.64                14.0       1501.0           337.0   \n",
            "4    -114.57     33.57                20.0       1454.0           326.0   \n",
            "\n",
            "   population  households  median_income  median_house_value  \n",
            "0      1015.0       472.0         1.4936             66900.0  \n",
            "1      1129.0       463.0         1.8200             80100.0  \n",
            "2       333.0       117.0         1.6509             85700.0  \n",
            "3       515.0       226.0         3.1917             73400.0  \n",
            "4       624.0       262.0         1.9250             65500.0  \n"
          ]
        }
      ],
      "source": [
        "import tensorflow\n",
        "import pandas as pd\n",
        "\n",
        "data_test = pd.read_csv('/content/sample_data/california_housing_test.csv')\n",
        "data_train = pd.read_csv('/content/sample_data/california_housing_train.csv')\n",
        "\n",
        "y_test = data_test.pop('median_house_value')\n",
        "y_train = data_train.pop('median_house_value')\n",
        "\n",
        "\n",
        "print(data_train.head())"
      ]
    }
  ]
}