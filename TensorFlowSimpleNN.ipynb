{
  "nbformat": 4,
  "nbformat_minor": 0,
  "metadata": {
    "colab": {
      "provenance": [],
      "authorship_tag": "ABX9TyPkA/OHfI/mSTl6KUbOnF39"
    },
    "kernelspec": {
      "name": "python3",
      "display_name": "Python 3"
    },
    "language_info": {
      "name": "python"
    }
  },
  "cells": [
    {
      "cell_type": "code",
      "execution_count": 87,
      "metadata": {
        "colab": {
          "base_uri": "https://localhost:8080/"
        },
        "id": "4Oum41JRYCRv",
        "outputId": "74dc4304-0255-411b-80ea-97276b3e364b"
      },
      "outputs": [
        {
          "output_type": "stream",
          "name": "stderr",
          "text": [
            "[nltk_data] Downloading package stopwords to /root/nltk_data...\n",
            "[nltk_data]   Package stopwords is already up-to-date!\n",
            "[nltk_data] Downloading package punkt to /root/nltk_data...\n",
            "[nltk_data]   Package punkt is already up-to-date!\n"
          ]
        }
      ],
      "source": [
        "import tensorflow as tf\n",
        "from keras.preprocessing.text import Tokenizer\n",
        "import nltk\n",
        "nltk.download('stopwords')\n",
        "nltk.download('punkt')\n",
        "from nltk.tokenize import word_tokenize\n",
        "from nltk.corpus import stopwords"
      ]
    },
    {
      "cell_type": "code",
      "source": [
        "from tensorflow.keras.preprocessing.sequence import pad_sequences"
      ],
      "metadata": {
        "id": "Pa4K1-hn8oHC"
      },
      "execution_count": 89,
      "outputs": []
    },
    {
      "cell_type": "code",
      "source": [
        "import pandas as pd\n",
        "\n",
        "documents = pd.read_csv(\"/content/sample_data/spam.csv\") #https://github.com/SmallLion/Python-Projects/blob/main/Spam-detection/spam.csv\n",
        "print(documents.columns)\n",
        "x = documents.iloc[:,1:2]\n",
        "y = documents.iloc[:,0:1]\n",
        "IsSpam = {'spam': 1,'ham': 0}\n",
        "y['v1'] = y['v1'].map(IsSpam)\n",
        "\n",
        "# x = x['v2'].tolist()\n",
        "# y = y['v1'].tolist()\n",
        "print(x)\n",
        "print(y)"
      ],
      "metadata": {
        "colab": {
          "base_uri": "https://localhost:8080/"
        },
        "id": "kTZDkxehZbXl",
        "outputId": "6e5ec33c-5ef3-4634-b0f0-1502448e248e"
      },
      "execution_count": 88,
      "outputs": [
        {
          "output_type": "stream",
          "name": "stdout",
          "text": [
            "Index(['v1', 'v2', 'Unnamed: 2', 'Unnamed: 3', 'Unnamed: 4'], dtype='object')\n",
            "                                                     v2\n",
            "0     Go until jurong point, crazy.. Available only ...\n",
            "1                         Ok lar... Joking wif u oni...\n",
            "2     Free entry in 2 a wkly comp to win FA Cup fina...\n",
            "3     U dun say so early hor... U c already then say...\n",
            "4     Nah I don't think he goes to usf, he lives aro...\n",
            "...                                                 ...\n",
            "5567  This is the 2nd time we have tried 2 contact u...\n",
            "5568              Will Ì_ b going to esplanade fr home?\n",
            "5569  Pity, * was in mood for that. So...any other s...\n",
            "5570  The guy did some bitching but I acted like i'd...\n",
            "5571                         Rofl. Its true to its name\n",
            "\n",
            "[5572 rows x 1 columns]\n",
            "      v1\n",
            "0      0\n",
            "1      0\n",
            "2      1\n",
            "3      0\n",
            "4      0\n",
            "...   ..\n",
            "5567   1\n",
            "5568   0\n",
            "5569   0\n",
            "5570   0\n",
            "5571   0\n",
            "\n",
            "[5572 rows x 1 columns]\n"
          ]
        },
        {
          "output_type": "stream",
          "name": "stderr",
          "text": [
            "<ipython-input-88-9bd92fa18d09>:8: SettingWithCopyWarning: \n",
            "A value is trying to be set on a copy of a slice from a DataFrame.\n",
            "Try using .loc[row_indexer,col_indexer] = value instead\n",
            "\n",
            "See the caveats in the documentation: https://pandas.pydata.org/pandas-docs/stable/user_guide/indexing.html#returning-a-view-versus-a-copy\n",
            "  y['v1'] = y['v1'].map(IsSpam)\n"
          ]
        }
      ]
    },
    {
      "cell_type": "code",
      "source": [
        "def remove_stop_words(text):\n",
        "    text = word_tokenize(text.lower())\n",
        "    stop_words = set(stopwords.words('english'))\n",
        "    text = [word for word in text if word.isalpha() and not word in stop_words]\n",
        "    return ' '.join(text)\n",
        "\n",
        "x = x.apply(lambda row: remove_stop_words(row['v2']), axis=1)\n",
        "print(x)\n",
        "print(y)"
      ],
      "metadata": {
        "colab": {
          "base_uri": "https://localhost:8080/"
        },
        "id": "e0y9IHsQg0Wz",
        "outputId": "a37a9361-484b-4beb-85cb-63bd85f9719d"
      },
      "execution_count": 90,
      "outputs": [
        {
          "output_type": "stream",
          "name": "stdout",
          "text": [
            "0       go jurong point crazy available bugis n great ...\n",
            "1                                 ok lar joking wif u oni\n",
            "2       free entry wkly comp win fa cup final tkts may...\n",
            "3                     u dun say early hor u c already say\n",
            "4                  nah think goes usf lives around though\n",
            "                              ...                        \n",
            "5567    time tried contact u pound prize claim easy ca...\n",
            "5568                            b going esplanade fr home\n",
            "5569                                pity mood suggestions\n",
            "5570    guy bitching acted like interested buying some...\n",
            "5571                                       rofl true name\n",
            "Length: 5572, dtype: object\n",
            "      v1\n",
            "0      0\n",
            "1      0\n",
            "2      1\n",
            "3      0\n",
            "4      0\n",
            "...   ..\n",
            "5567   1\n",
            "5568   0\n",
            "5569   0\n",
            "5570   0\n",
            "5571   0\n",
            "\n",
            "[5572 rows x 1 columns]\n"
          ]
        }
      ]
    },
    {
      "cell_type": "code",
      "source": [
        "max_words = 2000\n",
        "max_length = 500\n",
        "tokenizer = Tokenizer(max_words)\n",
        "tokenizer.fit_on_texts(x)\n",
        "sequences = tokenizer.texts_to_sequences(x)\n",
        "x = pad_sequences(sequences, maxlen= max_length)\n",
        "print(x.shape)"
      ],
      "metadata": {
        "colab": {
          "base_uri": "https://localhost:8080/"
        },
        "id": "Z2RejNetbaxe",
        "outputId": "63f71bce-81a8-47c8-e4cd-b31494dc47c7"
      },
      "execution_count": 91,
      "outputs": [
        {
          "output_type": "stream",
          "name": "stdout",
          "text": [
            "(5572, 500)\n"
          ]
        }
      ]
    },
    {
      "cell_type": "code",
      "source": [
        "from keras.models import Sequential\n",
        "from keras.layers import Dense, Flatten\n",
        "from keras.layers import Embedding\n",
        " \n",
        "model = Sequential() \n",
        "model.add(Embedding(max_words, 32, input_length=max_length)) \n",
        "model.add(Flatten())\n",
        "model.add(Dense(128, activation='relu'))\n",
        "model.add(Dense(1, activation='sigmoid'))\n",
        "model.compile(loss='binary_crossentropy', optimizer='adam', metrics=['accuracy']) \n",
        "model.summary()"
      ],
      "metadata": {
        "colab": {
          "base_uri": "https://localhost:8080/"
        },
        "id": "baQAFYWPf556",
        "outputId": "e46908ff-cb28-4c65-a2ee-d8ba72815a89"
      },
      "execution_count": 73,
      "outputs": [
        {
          "output_type": "stream",
          "name": "stdout",
          "text": [
            "Model: \"sequential_1\"\n",
            "_________________________________________________________________\n",
            " Layer (type)                Output Shape              Param #   \n",
            "=================================================================\n",
            " embedding_1 (Embedding)     (None, 500, 32)           64000     \n",
            "                                                                 \n",
            " flatten_1 (Flatten)         (None, 16000)             0         \n",
            "                                                                 \n",
            " dense_2 (Dense)             (None, 128)               2048128   \n",
            "                                                                 \n",
            " dense_3 (Dense)             (None, 1)                 129       \n",
            "                                                                 \n",
            "=================================================================\n",
            "Total params: 2,112,257\n",
            "Trainable params: 2,112,257\n",
            "Non-trainable params: 0\n",
            "_________________________________________________________________\n"
          ]
        }
      ]
    },
    {
      "cell_type": "code",
      "source": [
        "import numpy as np\n",
        "x = np.array(x)\n",
        "y = np.array(y)\n",
        "print(x)\n",
        "print(y)\n",
        "hist = model.fit(x, y, validation_split=0.2, epochs=10, batch_size=10)"
      ],
      "metadata": {
        "colab": {
          "base_uri": "https://localhost:8080/"
        },
        "id": "EBsCUC1sE3Kw",
        "outputId": "a654bb98-d919-4e85-afb5-e9fba6b27ff5"
      },
      "execution_count": 74,
      "outputs": [
        {
          "output_type": "stream",
          "name": "stdout",
          "text": [
            "[[   0    0    0 ... 1059   11   59]\n",
            " [   0    0    0 ...  322    1 1586]\n",
            " [   0    0    0 ...  367   56  271]\n",
            " ...\n",
            " [   0    0    0 ...    0    0 1056]\n",
            " [   0    0    0 ...  807  115    8]\n",
            " [   0    0    0 ...    0  347  160]]\n",
            "[[0]\n",
            " [0]\n",
            " [1]\n",
            " ...\n",
            " [0]\n",
            " [0]\n",
            " [0]]\n",
            "Epoch 1/10\n",
            "446/446 [==============================] - 14s 30ms/step - loss: 0.1922 - accuracy: 0.9287 - val_loss: 0.1132 - val_accuracy: 0.9641\n",
            "Epoch 2/10\n",
            "446/446 [==============================] - 13s 30ms/step - loss: 0.0457 - accuracy: 0.9861 - val_loss: 0.0704 - val_accuracy: 0.9785\n",
            "Epoch 3/10\n",
            "446/446 [==============================] - 13s 30ms/step - loss: 0.0223 - accuracy: 0.9937 - val_loss: 0.0943 - val_accuracy: 0.9821\n",
            "Epoch 4/10\n",
            "446/446 [==============================] - 13s 30ms/step - loss: 0.0119 - accuracy: 0.9978 - val_loss: 0.1012 - val_accuracy: 0.9794\n",
            "Epoch 5/10\n",
            "446/446 [==============================] - 13s 29ms/step - loss: 0.0091 - accuracy: 0.9980 - val_loss: 0.0963 - val_accuracy: 0.9767\n",
            "Epoch 6/10\n",
            "446/446 [==============================] - 13s 29ms/step - loss: 0.0057 - accuracy: 0.9993 - val_loss: 0.1172 - val_accuracy: 0.9794\n",
            "Epoch 7/10\n",
            "446/446 [==============================] - 13s 30ms/step - loss: 0.0048 - accuracy: 0.9991 - val_loss: 0.1518 - val_accuracy: 0.9785\n",
            "Epoch 8/10\n",
            "446/446 [==============================] - 15s 34ms/step - loss: 0.0054 - accuracy: 0.9991 - val_loss: 0.1651 - val_accuracy: 0.9767\n",
            "Epoch 9/10\n",
            "446/446 [==============================] - 16s 37ms/step - loss: 0.0055 - accuracy: 0.9980 - val_loss: 0.1753 - val_accuracy: 0.9785\n",
            "Epoch 10/10\n",
            "446/446 [==============================] - 16s 35ms/step - loss: 0.0054 - accuracy: 0.9993 - val_loss: 0.1691 - val_accuracy: 0.9767\n"
          ]
        }
      ]
    },
    {
      "cell_type": "code",
      "source": [
        "import seaborn as sns\n",
        "import matplotlib.pyplot as plt\n",
        "%matplotlib inline\n",
        "sns.set()\n",
        " \n",
        "acc = hist.history['accuracy']\n",
        "val = hist.history['val_accuracy']\n",
        "epochs = range(1, len(acc) + 1)\n",
        " \n",
        "plt.plot(epochs, acc, '-', label='Training accuracy')\n",
        "plt.plot(epochs, val, ':', label='Validation accuracy')\n",
        "plt.title('Training and Validation Accuracy')\n",
        "plt.xlabel('Epoch')\n",
        "plt.ylabel('Accuracy')\n",
        "plt.legend(loc='lower right')\n",
        "plt.plot()"
      ],
      "metadata": {
        "colab": {
          "base_uri": "https://localhost:8080/",
          "height": 319
        },
        "id": "zF_j5IwYgh7L",
        "outputId": "77f55aa0-9358-43f9-87a1-263ca83abc09"
      },
      "execution_count": 75,
      "outputs": [
        {
          "output_type": "execute_result",
          "data": {
            "text/plain": [
              "[]"
            ]
          },
          "metadata": {},
          "execution_count": 75
        },
        {
          "output_type": "display_data",
          "data": {
            "text/plain": [
              "<Figure size 432x288 with 1 Axes>"
            ],
            "image/png": "[encoded data removed]"
          },
          "metadata": {}
        }
      ]
    },
    {
      "cell_type": "code",
      "source": [
        "#Find out which input model got wrong:\n",
        "prediction = np.round(model.predict(x))"
      ],
      "metadata": {
        "colab": {
          "base_uri": "https://localhost:8080/"
        },
        "id": "dByWzrfVjCmx",
        "outputId": "7b068d96-fa00-44bc-ee83-c934a7c688cd"
      },
      "execution_count": 202,
      "outputs": [
        {
          "output_type": "stream",
          "name": "stdout",
          "text": [
            "175/175 [==============================] - 2s 9ms/step\n"
          ]
        }
      ]
    },
    {
      "cell_type": "code",
      "source": [
        "y_list = y.values.tolist()\n",
        "wrong_answer = []\n",
        "wrong_answer_full_text = []\n",
        "for i in range(0,len(prediction)):\n",
        "  if prediction[i] != y_list[i]:\n",
        "    wrong_answer_full_text.append((x[i]))\n",
        "    wrong_answer.append((prediction[i][0]))"
      ],
      "metadata": {
        "id": "FmDbbNqpmglf"
      },
      "execution_count": 203,
      "outputs": []
    },
    {
      "cell_type": "code",
      "source": [
        "print(np.shape(wrong_answer_full_text))"
      ],
      "metadata": {
        "colab": {
          "base_uri": "https://localhost:8080/"
        },
        "id": "1LWK3pD8crXb",
        "outputId": "2a425d73-968c-45bc-e2e2-4638b5c36fb2"
      },
      "execution_count": 204,
      "outputs": [
        {
          "output_type": "stream",
          "name": "stdout",
          "text": [
            "(29, 500)\n"
          ]
        }
      ]
    },
    {
      "cell_type": "code",
      "source": [
        "print(tokenizer.sequences_to_texts(wrong_answer_full_text))\n",
        "print(wrong_answer)"
      ],
      "metadata": {
        "colab": {
          "base_uri": "https://localhost:8080/"
        },
        "id": "Nr6xvpPEdaaP",
        "outputId": "cdb77c3b-7b34-486b-85ed-976375b8c9c9"
      },
      "execution_count": 205,
      "outputs": [
        {
          "output_type": "stream",
          "name": "stdout",
          "text": [
            "['', '', 'text', 'welcome msg free giving free calling future daily cancel send', 'want sex ring costs', 'money number wot next', 'hot fat thanks especially text word', 'xmas reward waiting computer picked mobile receive reward call', 'liked new mobile', 'get lots cash weekend dear welcome weekend got biggest best ever cash give away', 'check choose babe', 'nokia phone', 'v simple pass give mins', 'hi sending free phone number couple days give access adult', 'support texting added next bill', 'u txt u remember want talk u txt', 'sorry missed call please call back', 'themob hit link get game new crazy free', 'private account statement', 'xmas reward waiting computer picked mobile receive reward call', 'dating two started sent text talk sport radio last week connection think', 'current bid auction send customer care', 'guaranteed award maybe even cash claim ur award call free number wat u think', 'latest news police station nothing go', 'shopping per person call visit', 'c', 'luck win big win', 'want sex ring costs pobox', 'asked free mins india cust sed yes got bill dont giv shit due days want']\n",
            "[0.0, 0.0, 1.0, 0.0, 0.0, 0.0, 1.0, 0.0, 1.0, 0.0, 0.0, 1.0, 0.0, 0.0, 0.0, 1.0, 1.0, 0.0, 0.0, 0.0, 0.0, 0.0, 0.0, 0.0, 0.0, 0.0, 1.0, 0.0, 0.0]\n"
          ]
        }
      ]
    },
    {
      "cell_type": "code",
      "source": [
        "#Test new input\n",
        "cleaned_text = remove_stop_words('Can you attend a code attend on Tuesday? Need to make sure the logic is rock solid.')\n",
        "sequence = tokenizer.texts_to_sequences([cleaned_text])\n",
        "padded_sequence = pad_sequences(sequence, maxlen=max_length)\n",
        "prediction = model.predict(padded_sequence)\n",
        "pretty_print = lambda x: np.format_float_positional(x, trim=\"-\")\n",
        "print(np.round(prediction[0][0]))"
      ],
      "metadata": {
        "colab": {
          "base_uri": "https://localhost:8080/"
        },
        "id": "aYt6gThEhJAa",
        "outputId": "f2512822-83ed-4395-a27e-7570ca62f5c4"
      },
      "execution_count": 206,
      "outputs": [
        {
          "output_type": "stream",
          "name": "stdout",
          "text": [
            "1/1 [==============================] - 0s 37ms/step\n",
            "0.0\n"
          ]
        }
      ]
    },
    {
      "cell_type": "code",
      "source": [
        "cleaned_text = remove_stop_words(' rate apply')\n",
        "print(cleaned_text)\n",
        "sequence = tokenizer.texts_to_sequences([cleaned_text])\n",
        "padded_sequence = pad_sequences(sequence, maxlen=max_length)\n",
        "prediction = model.predict(padded_sequence)\n",
        "pretty_print = lambda x: np.format_float_positional(x, trim=\"-\")\n",
        "print(np.round(prediction[0][0]))"
      ],
      "metadata": {
        "colab": {
          "base_uri": "https://localhost:8080/"
        },
        "id": "9f2l_92ehWDa",
        "outputId": "1aa54b22-90ab-4c12-8ff7-240ef4ef7e10"
      },
      "execution_count": 207,
      "outputs": [
        {
          "output_type": "stream",
          "name": "stdout",
          "text": [
            "rate apply\n",
            "1/1 [==============================] - 0s 25ms/step\n",
            "1.0\n"
          ]
        }
      ]
    }
  ]
}