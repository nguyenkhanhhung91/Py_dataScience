{
  "nbformat": 4,
  "nbformat_minor": 0,
  "metadata": {
    "colab": {
      "provenance": [],
      "authorship_tag": "ABX9TyO+V0rcO8oMEdJi8uI5lxF4"
    },
    "kernelspec": {
      "name": "python3",
      "display_name": "Python 3"
    },
    "language_info": {
      "name": "python"
    }
  },
  "cells": [
    {
      "cell_type": "code",
      "execution_count": 73,
      "metadata": {
        "colab": {
          "base_uri": "https://localhost:8080/"
        },
        "id": "4Oum41JRYCRv",
        "outputId": "f258e6fd-581e-48e8-a74c-e367300a2640"
      },
      "outputs": [
        {
          "output_type": "stream",
          "name": "stderr",
          "text": [
            "[nltk_data] Downloading package stopwords to /root/nltk_data...\n",
            "[nltk_data]   Package stopwords is already up-to-date!\n"
          ]
        }
      ],
      "source": [
        "import tensorflow as tf\n",
        "from keras.preprocessing.text import Tokenizer\n",
        "import nltk\n",
        "nltk.download('stopwords')\n",
        "from nltk.tokenize import word_tokenize\n",
        "from nltk.corpus import stopwords"
      ]
    },
    {
      "cell_type": "code",
      "source": [
        "from tensorflow.keras.preprocessing.sequence import pad_sequences"
      ],
      "metadata": {
        "id": "Pa4K1-hn8oHC"
      },
      "execution_count": 74,
      "outputs": []
    },
    {
      "cell_type": "code",
      "source": [
        "import pandas as pd\n",
        "\n",
        "documents = pd.read_csv(\"/content/spam.csv\") #https://github.com/SmallLion/Python-Projects/blob/main/Spam-detection/spam.csv\n",
        "print(documents.columns)\n",
        "x = documents.iloc[:,1:2]\n",
        "y = documents.iloc[:,0:1]\n",
        "IsSpam = {'spam': 1,'ham': 0}\n",
        "y['v1'] = y['v1'].map(IsSpam)\n",
        "\n",
        "# x = x['v2'].tolist()\n",
        "# y = y['v1'].tolist()\n",
        "print(x)\n",
        "print(y)"
      ],
      "metadata": {
        "colab": {
          "base_uri": "https://localhost:8080/"
        },
        "id": "kTZDkxehZbXl",
        "outputId": "5f1fae7a-55c3-481a-9f0d-553b503b8460"
      },
      "execution_count": 105,
      "outputs": [
        {
          "output_type": "stream",
          "name": "stdout",
          "text": [
            "Index(['v1', 'v2', 'Unnamed: 2', 'Unnamed: 3', 'Unnamed: 4'], dtype='object')\n",
            "                                                     v2\n",
            "0     Go until jurong point, crazy.. Available only ...\n",
            "1                         Ok lar... Joking wif u oni...\n",
            "2     Free entry in 2 a wkly comp to win FA Cup fina...\n",
            "3     U dun say so early hor... U c already then say...\n",
            "4     Nah I don't think he goes to usf, he lives aro...\n",
            "...                                                 ...\n",
            "5567  This is the 2nd time we have tried 2 contact u...\n",
            "5568              Will Ì_ b going to esplanade fr home?\n",
            "5569  Pity, * was in mood for that. So...any other s...\n",
            "5570  The guy did some bitching but I acted like i'd...\n",
            "5571                         Rofl. Its true to its name\n",
            "\n",
            "[5572 rows x 1 columns]\n",
            "      v1\n",
            "0      0\n",
            "1      0\n",
            "2      1\n",
            "3      0\n",
            "4      0\n",
            "...   ..\n",
            "5567   1\n",
            "5568   0\n",
            "5569   0\n",
            "5570   0\n",
            "5571   0\n",
            "\n",
            "[5572 rows x 1 columns]\n"
          ]
        },
        {
          "output_type": "stream",
          "name": "stderr",
          "text": [
            "<ipython-input-105-08ae29480b40>:8: SettingWithCopyWarning: \n",
            "A value is trying to be set on a copy of a slice from a DataFrame.\n",
            "Try using .loc[row_indexer,col_indexer] = value instead\n",
            "\n",
            "See the caveats in the documentation: https://pandas.pydata.org/pandas-docs/stable/user_guide/indexing.html#returning-a-view-versus-a-copy\n",
            "  y['v1'] = y['v1'].map(IsSpam)\n"
          ]
        }
      ]
    },
    {
      "cell_type": "code",
      "source": [
        "def remove_stop_words(text):\n",
        "    text = word_tokenize(text.lower())\n",
        "    stop_words = set(stopwords.words('english'))\n",
        "    text = [word for word in text if word.isalpha() and not word in stop_words]\n",
        "    return ' '.join(text)\n",
        "\n",
        "x = x.apply(lambda row: remove_stop_words(row['v2']), axis=1)\n",
        "print(x)\n",
        "print(y)"
      ],
      "metadata": {
        "colab": {
          "base_uri": "https://localhost:8080/"
        },
        "id": "e0y9IHsQg0Wz",
        "outputId": "3aad7cf9-e714-4b19-c32c-786cb0f16bea"
      },
      "execution_count": 106,
      "outputs": [
        {
          "output_type": "stream",
          "name": "stdout",
          "text": [
            "0       go jurong point crazy available bugis n great ...\n",
            "1                                 ok lar joking wif u oni\n",
            "2       free entry wkly comp win fa cup final tkts may...\n",
            "3                     u dun say early hor u c already say\n",
            "4                  nah think goes usf lives around though\n",
            "                              ...                        \n",
            "5567    time tried contact u pound prize claim easy ca...\n",
            "5568                            b going esplanade fr home\n",
            "5569                                pity mood suggestions\n",
            "5570    guy bitching acted like interested buying some...\n",
            "5571                                       rofl true name\n",
            "Length: 5572, dtype: object\n",
            "      v1\n",
            "0      0\n",
            "1      0\n",
            "2      1\n",
            "3      0\n",
            "4      0\n",
            "...   ..\n",
            "5567   1\n",
            "5568   0\n",
            "5569   0\n",
            "5570   0\n",
            "5571   0\n",
            "\n",
            "[5572 rows x 1 columns]\n"
          ]
        }
      ]
    },
    {
      "cell_type": "code",
      "source": [
        "max_words = 20000\n",
        "max_length = 500\n",
        "tokenizer = Tokenizer(max_words)\n",
        "tokenizer.fit_on_texts(x)\n",
        "sequences = tokenizer.texts_to_sequences(x)\n",
        "x = pad_sequences(sequences, maxlen= max_length)\n",
        "print(x)"
      ],
      "metadata": {
        "colab": {
          "base_uri": "https://localhost:8080/"
        },
        "id": "Z2RejNetbaxe",
        "outputId": "8ed85744-4379-4f56-bea2-c3ff6a129976"
      },
      "execution_count": 107,
      "outputs": [
        {
          "output_type": "stream",
          "name": "stdout",
          "text": [
            "[[   0    0    0 ...   11 3570   59]\n",
            " [   0    0    0 ...  322    1 1586]\n",
            " [   0    0    0 ...  367   56  271]\n",
            " ...\n",
            " [   0    0    0 ... 7154 1056 7155]\n",
            " [   0    0    0 ...  807  115    8]\n",
            " [   0    0    0 ... 2172  347  160]]\n"
          ]
        }
      ]
    },
    {
      "cell_type": "code",
      "source": [
        "from keras.models import Sequential\n",
        "from keras.layers import Dense, Flatten\n",
        "from keras.layers import Embedding\n",
        " \n",
        "model = Sequential() \n",
        "model.add(Embedding(max_words, 32, input_length=max_length)) \n",
        "model.add(Flatten())\n",
        "model.add(Dense(128, activation='relu'))\n",
        "model.add(Dense(1, activation='sigmoid'))\n",
        "model.compile(loss='binary_crossentropy', optimizer='adam', metrics=['accuracy']) \n",
        "model.summary()"
      ],
      "metadata": {
        "colab": {
          "base_uri": "https://localhost:8080/"
        },
        "id": "baQAFYWPf556",
        "outputId": "68a4f5d8-ac33-4836-8cd4-8172f4a935b2"
      },
      "execution_count": 108,
      "outputs": [
        {
          "output_type": "stream",
          "name": "stdout",
          "text": [
            "Model: \"sequential_9\"\n",
            "_________________________________________________________________\n",
            " Layer (type)                Output Shape              Param #   \n",
            "=================================================================\n",
            " embedding_8 (Embedding)     (None, 500, 32)           640000    \n",
            "                                                                 \n",
            " flatten_8 (Flatten)         (None, 16000)             0         \n",
            "                                                                 \n",
            " dense_16 (Dense)            (None, 128)               2048128   \n",
            "                                                                 \n",
            " dense_17 (Dense)            (None, 1)                 129       \n",
            "                                                                 \n",
            "=================================================================\n",
            "Total params: 2,688,257\n",
            "Trainable params: 2,688,257\n",
            "Non-trainable params: 0\n",
            "_________________________________________________________________\n"
          ]
        }
      ]
    },
    {
      "cell_type": "code",
      "source": [
        "import numpy as np\n",
        "x = np.array(x)\n",
        "y = np.array(y)\n",
        "print(x)\n",
        "print(y)\n",
        "hist = model.fit(x, y, validation_split=0.2, epochs=20, batch_size=10)"
      ],
      "metadata": {
        "colab": {
          "base_uri": "https://localhost:8080/"
        },
        "id": "EBsCUC1sE3Kw",
        "outputId": "f5a5e056-8a8d-4950-bac4-9cb3aa848d97"
      },
      "execution_count": 109,
      "outputs": [
        {
          "output_type": "stream",
          "name": "stdout",
          "text": [
            "[[   0    0    0 ...   11 3570   59]\n",
            " [   0    0    0 ...  322    1 1586]\n",
            " [   0    0    0 ...  367   56  271]\n",
            " ...\n",
            " [   0    0    0 ... 7154 1056 7155]\n",
            " [   0    0    0 ...  807  115    8]\n",
            " [   0    0    0 ... 2172  347  160]]\n",
            "[[0]\n",
            " [0]\n",
            " [1]\n",
            " ...\n",
            " [0]\n",
            " [0]\n",
            " [0]]\n",
            "Epoch 1/20\n",
            "446/446 [==============================] - 22s 47ms/step - loss: 0.1675 - accuracy: 0.9444 - val_loss: 0.0711 - val_accuracy: 0.9803\n",
            "Epoch 2/20\n",
            "446/446 [==============================] - 17s 38ms/step - loss: 0.0324 - accuracy: 0.9895 - val_loss: 0.0671 - val_accuracy: 0.9848\n",
            "Epoch 3/20\n",
            "446/446 [==============================] - 19s 42ms/step - loss: 0.0101 - accuracy: 0.9971 - val_loss: 0.0715 - val_accuracy: 0.9767\n",
            "Epoch 4/20\n",
            "446/446 [==============================] - 17s 39ms/step - loss: 0.0051 - accuracy: 0.9987 - val_loss: 0.0791 - val_accuracy: 0.9785\n",
            "Epoch 5/20\n",
            "446/446 [==============================] - 17s 38ms/step - loss: 0.0033 - accuracy: 0.9993 - val_loss: 0.0842 - val_accuracy: 0.9803\n",
            "Epoch 6/20\n",
            "446/446 [==============================] - 18s 41ms/step - loss: 0.0029 - accuracy: 0.9993 - val_loss: 0.1039 - val_accuracy: 0.9785\n",
            "Epoch 7/20\n",
            "446/446 [==============================] - 18s 40ms/step - loss: 0.0027 - accuracy: 0.9991 - val_loss: 0.1041 - val_accuracy: 0.9803\n",
            "Epoch 8/20\n",
            "446/446 [==============================] - 17s 38ms/step - loss: 0.0020 - accuracy: 0.9998 - val_loss: 0.1329 - val_accuracy: 0.9776\n",
            "Epoch 9/20\n",
            "446/446 [==============================] - 17s 37ms/step - loss: 0.0020 - accuracy: 0.9998 - val_loss: 0.1295 - val_accuracy: 0.9785\n",
            "Epoch 10/20\n",
            "446/446 [==============================] - 18s 41ms/step - loss: 0.0046 - accuracy: 0.9987 - val_loss: 0.1866 - val_accuracy: 0.9785\n",
            "Epoch 11/20\n",
            "446/446 [==============================] - 18s 40ms/step - loss: 0.0015 - accuracy: 0.9998 - val_loss: 0.1690 - val_accuracy: 0.9758\n",
            "Epoch 12/20\n",
            "446/446 [==============================] - 17s 38ms/step - loss: 0.0018 - accuracy: 0.9996 - val_loss: 0.1656 - val_accuracy: 0.9776\n",
            "Epoch 13/20\n",
            "446/446 [==============================] - 17s 38ms/step - loss: 0.0013 - accuracy: 0.9998 - val_loss: 0.1741 - val_accuracy: 0.9785\n",
            "Epoch 14/20\n",
            "446/446 [==============================] - 18s 40ms/step - loss: 0.0046 - accuracy: 0.9984 - val_loss: 0.2003 - val_accuracy: 0.9767\n",
            "Epoch 15/20\n",
            "446/446 [==============================] - 18s 41ms/step - loss: 0.0023 - accuracy: 0.9993 - val_loss: 0.2196 - val_accuracy: 0.9767\n",
            "Epoch 16/20\n",
            "446/446 [==============================] - 17s 39ms/step - loss: 0.0015 - accuracy: 0.9998 - val_loss: 0.2203 - val_accuracy: 0.9767\n",
            "Epoch 17/20\n",
            "446/446 [==============================] - 17s 39ms/step - loss: 0.0012 - accuracy: 0.9998 - val_loss: 0.2098 - val_accuracy: 0.9767\n",
            "Epoch 18/20\n",
            "446/446 [==============================] - 18s 41ms/step - loss: 0.0015 - accuracy: 0.9998 - val_loss: 0.2320 - val_accuracy: 0.9767\n",
            "Epoch 19/20\n",
            "446/446 [==============================] - 17s 39ms/step - loss: 0.0017 - accuracy: 0.9996 - val_loss: 0.2610 - val_accuracy: 0.9767\n",
            "Epoch 20/20\n",
            "446/446 [==============================] - 17s 38ms/step - loss: 0.0046 - accuracy: 0.9978 - val_loss: 0.2670 - val_accuracy: 0.9785\n"
          ]
        }
      ]
    },
    {
      "cell_type": "code",
      "source": [
        "import seaborn as sns\n",
        "import matplotlib.pyplot as plt\n",
        "%matplotlib inline\n",
        "sns.set()\n",
        " \n",
        "acc = hist.history['accuracy']\n",
        "val = hist.history['val_accuracy']\n",
        "epochs = range(1, len(acc) + 1)\n",
        " \n",
        "plt.plot(epochs, acc, '-', label='Training accuracy')\n",
        "plt.plot(epochs, val, ':', label='Validation accuracy')\n",
        "plt.title('Training and Validation Accuracy')\n",
        "plt.xlabel('Epoch')\n",
        "plt.ylabel('Accuracy')\n",
        "plt.legend(loc='lower right')\n",
        "plt.plot()"
      ],
      "metadata": {
        "colab": {
          "base_uri": "https://localhost:8080/",
          "height": 319
        },
        "id": "zF_j5IwYgh7L",
        "outputId": "b715135f-f671-4d1b-c112-fe47527d77a2"
      },
      "execution_count": 110,
      "outputs": [
        {
          "output_type": "execute_result",
          "data": {
            "text/plain": [
              "[]"
            ]
          },
          "metadata": {},
          "execution_count": 110
        },
        {
          "output_type": "display_data",
          "data": {
            "text/plain": [
              "<Figure size 432x288 with 1 Axes>"
            ],
            "image/png": "[encoded data removed]"
          },
          "metadata": {}
        }
      ]
    },
    {
      "cell_type": "code",
      "source": [
        "incorrects = np.nonzero(model.predict(x).reshape((-1,)) != y)\n"
      ],
      "metadata": {
        "colab": {
          "base_uri": "https://localhost:8080/"
        },
        "id": "dByWzrfVjCmx",
        "outputId": "82e87670-0d70-44ff-938b-3b5be0e5ff1e"
      },
      "execution_count": 116,
      "outputs": [
        {
          "output_type": "stream",
          "name": "stdout",
          "text": [
            "175/175 [==============================] - 3s 16ms/step\n"
          ]
        }
      ]
    },
    {
      "cell_type": "code",
      "source": [
        "print(incorrects)"
      ],
      "metadata": {
        "colab": {
          "base_uri": "https://localhost:8080/"
        },
        "id": "vHGyw653jvrE",
        "outputId": "24bcd322-a028-42ad-cee9-e1a7518b05b6"
      },
      "execution_count": 117,
      "outputs": [
        {
          "output_type": "stream",
          "name": "stdout",
          "text": [
            "(array([   0,    0,    0, ..., 5571, 5571, 5571]), array([   0,    1,    2, ..., 5569, 5570, 5571]))\n"
          ]
        }
      ]
    },
    {
      "cell_type": "code",
      "source": [
        "cleaned_text = remove_stop_words('Can you attend a code review on Tuesday? Need to make sure the logic is rock solid.')\n",
        "sequence = tokenizer.texts_to_sequences([cleaned_text])\n",
        "padded_sequence = pad_sequences(sequence, maxlen=max_length)\n",
        "prediction = model.predict(padded_sequence)\n",
        "print(prediction, y[np.argmax(prediction)])"
      ],
      "metadata": {
        "colab": {
          "base_uri": "https://localhost:8080/"
        },
        "id": "aYt6gThEhJAa",
        "outputId": "6de66cc0-3209-4f31-9dac-bb185832a5b8"
      },
      "execution_count": 122,
      "outputs": [
        {
          "output_type": "stream",
          "name": "stdout",
          "text": [
            "1/1 [==============================] - 0s 25ms/step\n",
            "[[3.1238488e-13]] [0]\n"
          ]
        }
      ]
    },
    {
      "cell_type": "code",
      "source": [
        "cleaned_text = remove_stop_words('Why pay more for expensive meds when you can order them online and save $$$?')\n",
        "sequence = tokenizer.texts_to_sequences([cleaned_text])\n",
        "padded_sequence = pad_sequences(sequence, maxlen=max_length)\n",
        "model.predict(padded_sequence)"
      ],
      "metadata": {
        "colab": {
          "base_uri": "https://localhost:8080/"
        },
        "id": "9f2l_92ehWDa",
        "outputId": "eedd4885-2709-40f0-e3c3-1ad4125844e7"
      },
      "execution_count": 118,
      "outputs": [
        {
          "output_type": "stream",
          "name": "stdout",
          "text": [
            "1/1 [==============================] - 0s 76ms/step\n"
          ]
        },
        {
          "output_type": "execute_result",
          "data": {
            "text/plain": [
              "array([[1.5281547e-07]], dtype=float32)"
            ]
          },
          "metadata": {},
          "execution_count": 118
        }
      ]
    }
  ]
}